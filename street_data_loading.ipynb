{
  "nbformat": 4,
  "nbformat_minor": 0,
  "metadata": {
    "colab": {
      "name": "street-data-loading.ipynb",
      "provenance": [],
      "collapsed_sections": []
    },
    "kernelspec": {
      "name": "python3",
      "display_name": "Python 3"
    },
    "language_info": {
      "name": "python"
    }
  },
  "cells": [
    {
      "cell_type": "code",
      "source": [
        "pip install -U requests pyquery"
      ],
      "metadata": {
        "colab": {
          "base_uri": "https://localhost:8080/"
        },
        "id": "XyGbEvBI5NNx",
        "outputId": "595d127c-0bf0-4719-c581-8cef844c3e1e"
      },
      "execution_count": 9,
      "outputs": [
        {
          "output_type": "stream",
          "name": "stdout",
          "text": [
            "Requirement already satisfied: requests in /usr/local/lib/python3.7/dist-packages (2.23.0)\n",
            "Collecting requests\n",
            "  Downloading requests-2.27.1-py2.py3-none-any.whl (63 kB)\n",
            "\u001b[K     |████████████████████████████████| 63 kB 1.7 MB/s \n",
            "\u001b[?25hCollecting pyquery\n",
            "  Downloading pyquery-1.4.3-py3-none-any.whl (22 kB)\n",
            "Requirement already satisfied: charset-normalizer~=2.0.0 in /usr/local/lib/python3.7/dist-packages (from requests) (2.0.12)\n",
            "Requirement already satisfied: urllib3<1.27,>=1.21.1 in /usr/local/lib/python3.7/dist-packages (from requests) (1.24.3)\n",
            "Requirement already satisfied: certifi>=2017.4.17 in /usr/local/lib/python3.7/dist-packages (from requests) (2021.10.8)\n",
            "Requirement already satisfied: idna<4,>=2.5 in /usr/local/lib/python3.7/dist-packages (from requests) (2.10)\n",
            "Collecting cssselect>0.7.9\n",
            "  Downloading cssselect-1.1.0-py2.py3-none-any.whl (16 kB)\n",
            "Requirement already satisfied: lxml>=2.1 in /usr/local/lib/python3.7/dist-packages (from pyquery) (4.2.6)\n",
            "Installing collected packages: cssselect, requests, pyquery\n",
            "  Attempting uninstall: requests\n",
            "    Found existing installation: requests 2.23.0\n",
            "    Uninstalling requests-2.23.0:\n",
            "      Successfully uninstalled requests-2.23.0\n",
            "\u001b[31mERROR: pip's dependency resolver does not currently take into account all the packages that are installed. This behaviour is the source of the following dependency conflicts.\n",
            "google-colab 1.0.0 requires requests~=2.23.0, but you have requests 2.27.1 which is incompatible.\n",
            "datascience 0.10.6 requires folium==0.2.1, but you have folium 0.8.3 which is incompatible.\u001b[0m\n",
            "Successfully installed cssselect-1.1.0 pyquery-1.4.3 requests-2.27.1\n"
          ]
        }
      ]
    },
    {
      "cell_type": "code",
      "source": [
        "import pandas as pd\n",
        "import requests\n",
        "from pyquery import PyQuery as pq\n",
        "\n",
        "url_csv_github = \"https://raw.githubusercontent.com/rtbfinfo/brussels_street/main/brussels_streets_cleaned.csv\"\n",
        "file_csv_output = \"brussels_street_complete.csv\""
      ],
      "metadata": {
        "id": "y871Q0kYJhHL"
      },
      "execution_count": 22,
      "outputs": []
    },
    {
      "cell_type": "markdown",
      "source": [
        "## Chargement du fichier CSV"
      ],
      "metadata": {
        "id": "x5LTg63azS9b"
      }
    },
    {
      "cell_type": "code",
      "source": [
        "df = pd.read_csv(url_csv_github, delimiter=\";\")\n",
        "df.head()"
      ],
      "metadata": {
        "colab": {
          "base_uri": "https://localhost:8080/",
          "height": 206
        },
        "id": "KDuoIclM0v2M",
        "outputId": "c4a88177-3aef-483e-d5c5-568914314a6c"
      },
      "execution_count": 23,
      "outputs": [
        {
          "output_type": "execute_result",
          "data": {
            "text/plain": [
              "   Code_postal    Commune                        Voie  \\\n",
              "0         1000  Pentagone     3 Septembre (place des)   \n",
              "1         1000  Pentagone  Abattoir (boulevard de l')   \n",
              "2         1000  Pentagone        Abattoir (rue de l')   \n",
              "3         1000  Pentagone      Abricotier (rue de l')   \n",
              "4         1000  Pentagone            Accolay (rue d')   \n",
              "\n",
              "                                                Lien  \n",
              "0  https://www.ebru.be/Streets/bruxelles-1000-pla...  \n",
              "1  https://www.ebru.be/Streets/bruxelles-1000-bou...  \n",
              "2  https://www.ebru.be/Streets/bruxelles-1000-rue...  \n",
              "3  https://www.ebru.be/Streets/bruxelles-1000-rue...  \n",
              "4  https://www.ebru.be/Streets/bruxelles-1000-rue...  "
            ],
            "text/html": [
              "\n",
              "  <div id=\"df-a61d53af-f2ae-4c78-8a8e-f57c9aa3bc0d\">\n",
              "    <div class=\"colab-df-container\">\n",
              "      <div>\n",
              "<style scoped>\n",
              "    .dataframe tbody tr th:only-of-type {\n",
              "        vertical-align: middle;\n",
              "    }\n",
              "\n",
              "    .dataframe tbody tr th {\n",
              "        vertical-align: top;\n",
              "    }\n",
              "\n",
              "    .dataframe thead th {\n",
              "        text-align: right;\n",
              "    }\n",
              "</style>\n",
              "<table border=\"1\" class=\"dataframe\">\n",
              "  <thead>\n",
              "    <tr style=\"text-align: right;\">\n",
              "      <th></th>\n",
              "      <th>Code_postal</th>\n",
              "      <th>Commune</th>\n",
              "      <th>Voie</th>\n",
              "      <th>Lien</th>\n",
              "    </tr>\n",
              "  </thead>\n",
              "  <tbody>\n",
              "    <tr>\n",
              "      <th>0</th>\n",
              "      <td>1000</td>\n",
              "      <td>Pentagone</td>\n",
              "      <td>3 Septembre (place des)</td>\n",
              "      <td>https://www.ebru.be/Streets/bruxelles-1000-pla...</td>\n",
              "    </tr>\n",
              "    <tr>\n",
              "      <th>1</th>\n",
              "      <td>1000</td>\n",
              "      <td>Pentagone</td>\n",
              "      <td>Abattoir (boulevard de l')</td>\n",
              "      <td>https://www.ebru.be/Streets/bruxelles-1000-bou...</td>\n",
              "    </tr>\n",
              "    <tr>\n",
              "      <th>2</th>\n",
              "      <td>1000</td>\n",
              "      <td>Pentagone</td>\n",
              "      <td>Abattoir (rue de l')</td>\n",
              "      <td>https://www.ebru.be/Streets/bruxelles-1000-rue...</td>\n",
              "    </tr>\n",
              "    <tr>\n",
              "      <th>3</th>\n",
              "      <td>1000</td>\n",
              "      <td>Pentagone</td>\n",
              "      <td>Abricotier (rue de l')</td>\n",
              "      <td>https://www.ebru.be/Streets/bruxelles-1000-rue...</td>\n",
              "    </tr>\n",
              "    <tr>\n",
              "      <th>4</th>\n",
              "      <td>1000</td>\n",
              "      <td>Pentagone</td>\n",
              "      <td>Accolay (rue d')</td>\n",
              "      <td>https://www.ebru.be/Streets/bruxelles-1000-rue...</td>\n",
              "    </tr>\n",
              "  </tbody>\n",
              "</table>\n",
              "</div>\n",
              "      <button class=\"colab-df-convert\" onclick=\"convertToInteractive('df-a61d53af-f2ae-4c78-8a8e-f57c9aa3bc0d')\"\n",
              "              title=\"Convert this dataframe to an interactive table.\"\n",
              "              style=\"display:none;\">\n",
              "        \n",
              "  <svg xmlns=\"http://www.w3.org/2000/svg\" height=\"24px\"viewBox=\"0 0 24 24\"\n",
              "       width=\"24px\">\n",
              "    <path d=\"M0 0h24v24H0V0z\" fill=\"none\"/>\n",
              "    <path d=\"M18.56 5.44l.94 2.06.94-2.06 2.06-.94-2.06-.94-.94-2.06-.94 2.06-2.06.94zm-11 1L8.5 8.5l.94-2.06 2.06-.94-2.06-.94L8.5 2.5l-.94 2.06-2.06.94zm10 10l.94 2.06.94-2.06 2.06-.94-2.06-.94-.94-2.06-.94 2.06-2.06.94z\"/><path d=\"M17.41 7.96l-1.37-1.37c-.4-.4-.92-.59-1.43-.59-.52 0-1.04.2-1.43.59L10.3 9.45l-7.72 7.72c-.78.78-.78 2.05 0 2.83L4 21.41c.39.39.9.59 1.41.59.51 0 1.02-.2 1.41-.59l7.78-7.78 2.81-2.81c.8-.78.8-2.07 0-2.86zM5.41 20L4 18.59l7.72-7.72 1.47 1.35L5.41 20z\"/>\n",
              "  </svg>\n",
              "      </button>\n",
              "      \n",
              "  <style>\n",
              "    .colab-df-container {\n",
              "      display:flex;\n",
              "      flex-wrap:wrap;\n",
              "      gap: 12px;\n",
              "    }\n",
              "\n",
              "    .colab-df-convert {\n",
              "      background-color: #E8F0FE;\n",
              "      border: none;\n",
              "      border-radius: 50%;\n",
              "      cursor: pointer;\n",
              "      display: none;\n",
              "      fill: #1967D2;\n",
              "      height: 32px;\n",
              "      padding: 0 0 0 0;\n",
              "      width: 32px;\n",
              "    }\n",
              "\n",
              "    .colab-df-convert:hover {\n",
              "      background-color: #E2EBFA;\n",
              "      box-shadow: 0px 1px 2px rgba(60, 64, 67, 0.3), 0px 1px 3px 1px rgba(60, 64, 67, 0.15);\n",
              "      fill: #174EA6;\n",
              "    }\n",
              "\n",
              "    [theme=dark] .colab-df-convert {\n",
              "      background-color: #3B4455;\n",
              "      fill: #D2E3FC;\n",
              "    }\n",
              "\n",
              "    [theme=dark] .colab-df-convert:hover {\n",
              "      background-color: #434B5C;\n",
              "      box-shadow: 0px 1px 3px 1px rgba(0, 0, 0, 0.15);\n",
              "      filter: drop-shadow(0px 1px 2px rgba(0, 0, 0, 0.3));\n",
              "      fill: #FFFFFF;\n",
              "    }\n",
              "  </style>\n",
              "\n",
              "      <script>\n",
              "        const buttonEl =\n",
              "          document.querySelector('#df-a61d53af-f2ae-4c78-8a8e-f57c9aa3bc0d button.colab-df-convert');\n",
              "        buttonEl.style.display =\n",
              "          google.colab.kernel.accessAllowed ? 'block' : 'none';\n",
              "\n",
              "        async function convertToInteractive(key) {\n",
              "          const element = document.querySelector('#df-a61d53af-f2ae-4c78-8a8e-f57c9aa3bc0d');\n",
              "          const dataTable =\n",
              "            await google.colab.kernel.invokeFunction('convertToInteractive',\n",
              "                                                     [key], {});\n",
              "          if (!dataTable) return;\n",
              "\n",
              "          const docLinkHtml = 'Like what you see? Visit the ' +\n",
              "            '<a target=\"_blank\" href=https://colab.research.google.com/notebooks/data_table.ipynb>data table notebook</a>'\n",
              "            + ' to learn more about interactive tables.';\n",
              "          element.innerHTML = '';\n",
              "          dataTable['output_type'] = 'display_data';\n",
              "          await google.colab.output.renderOutput(dataTable, element);\n",
              "          const docLink = document.createElement('div');\n",
              "          docLink.innerHTML = docLinkHtml;\n",
              "          element.appendChild(docLink);\n",
              "        }\n",
              "      </script>\n",
              "    </div>\n",
              "  </div>\n",
              "  "
            ]
          },
          "metadata": {},
          "execution_count": 23
        }
      ]
    },
    {
      "cell_type": "markdown",
      "source": [
        "## Récupération des descriptions en ligne"
      ],
      "metadata": {
        "id": "twFIZjMj4SXd"
      }
    },
    {
      "cell_type": "code",
      "source": [
        "def get_description(url):\n",
        "  r = requests.get(url)\n",
        "  html = pq(r.text)\n",
        "  data = \"\"\n",
        "  for item in html(\"font\").text():\n",
        "    data = data + item\n",
        "  return data\n",
        "\n",
        "# get_description(\"https://www.ebru.be/Streets/bruxelles-1000-place-des-3-septembre.html\")\n",
        "\n",
        "descriptions = []\n",
        "for row in df[\"Lien\"]:\n",
        "  descriptions.append(get_description(row))\n",
        "\n",
        "df[\"Description\"]=descriptions"
      ],
      "metadata": {
        "id": "rt97UZ094ZXR"
      },
      "execution_count": 24,
      "outputs": []
    },
    {
      "cell_type": "markdown",
      "source": [
        "## Save a new CSV"
      ],
      "metadata": {
        "id": "QT9Dete79H8P"
      }
    },
    {
      "cell_type": "code",
      "source": [
        "df.to_csv(\"brussels-streets-with-description.csv\")"
      ],
      "metadata": {
        "id": "BQ6k_zqu9KUk"
      },
      "execution_count": 25,
      "outputs": []
    }
  ]
}